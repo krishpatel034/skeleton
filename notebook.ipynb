{
 "cells": [
  {
   "cell_type": "code",
   "execution_count": 1,
   "metadata": {},
   "outputs": [],
   "source": [
    "import os\n",
    "\n",
    "import constants\n",
    "from data.StartingDataset import StartingDataset\n",
    "from networks.StartingNetwork import StartingNetwork\n",
    "from train_functions.starting_train import starting_train\n",
    "import torchvision\n",
    "import torch\n",
    "\n",
    "import matplotlib.pyplot as plt"
   ]
  },
  {
   "cell_type": "code",
   "execution_count": 4,
   "metadata": {},
   "outputs": [],
   "source": [
    "\n",
    "import torch\n",
    "import PIL.Image as img\n",
    "import numpy as np\n",
    "import pandas as pd\n",
    "import torchvision\n",
    "\n",
    "EPOCHS = 1    #DANGER: changed from 100 to 1\n",
    "BATCH_SIZE = 32\n",
    "N_EVAL = 100\n",
    "\n",
    "class StartingDataset(torch.utils.data.Dataset):\n",
    "    \"\"\"\n",
    "    Dataset that contains 100000 3x224x224 black images (all zeros).\n",
    "    \"\"\"\n",
    "\n",
    "    def __init__(self, file_path, transform=None):\n",
    "        self.data = pd.read_csv(file_path)\n",
    "        self.transform = transform\n",
    "        \n",
    "    def __getitem__(self, index):\n",
    "        image = self.data.iloc[index, 0]\n",
    "        image_real = img.open('../data/train_images/' + image)\n",
    "        label = self.data.iloc[index, 1]\n",
    "        \n",
    "        #if self.transform is not None:\n",
    "            #image = self.transform(image)\n",
    "            \n",
    "        #return image, label\n",
    "\n",
    "        new_dimensions = (224, 224)\n",
    "        return (torchvision.transforms.ToTensor()(image_real), label)\n",
    "\n",
    "    def __len__(self):\n",
    "        return len(self.data)\n",
    "    "
   ]
  },
  {
   "cell_type": "code",
   "execution_count": 5,
   "metadata": {},
   "outputs": [
    {
     "name": "stdout",
     "output_type": "stream",
     "text": [
      "Epochs: 1\n",
      "Batch size: 32\n",
      "Epoch 1 of 1\n"
     ]
    },
    {
     "name": "stderr",
     "output_type": "stream",
     "text": [
      "100%|██████████| 669/669 [03:54<00:00,  2.85it/s]"
     ]
    },
    {
     "name": "stdout",
     "output_type": "stream",
     "text": [
      "\n"
     ]
    },
    {
     "name": "stderr",
     "output_type": "stream",
     "text": [
      "\n"
     ]
    }
   ],
   "source": [
    "\n",
    "# Get command line arguments\n",
    "hyperparameters = {\"epochs\": constants.EPOCHS, \"batch_size\": constants.BATCH_SIZE}\n",
    "if torch.cuda.is_available():   #Select gpu if available\n",
    "    device = torch.device('cuda')\n",
    "    #\"cuda\" if torch.cuda.is_available() else \"cpu\")\n",
    "else:\n",
    "    device = torch.device('cpu')\n",
    "\n",
    "\n",
    "#Need to define train_dataset and test_dataset\n",
    "\n",
    "\n",
    "\n",
    "print(\"Epochs:\", constants.EPOCHS)\n",
    "print(\"Batch size:\", constants.BATCH_SIZE)\n",
    "\n",
    "# Initalize dataset and model. Then train the model!\n",
    "train_dataset = StartingDataset('../data/train.csv', transform=torchvision.transforms.ToTensor())\n",
    "\n",
    "#img, lab = train_dataset.__getitem__(0)\n",
    "#print(img)\n",
    "#print(type(img))\n",
    "\n",
    "val_dataset = StartingDataset('../data/train.csv', transform=torchvision.transforms.ToTensor())\n",
    "model = StartingNetwork()\n",
    "starting_train(\n",
    "    train_dataset=train_dataset,\n",
    "    val_dataset=val_dataset,\n",
    "    model=model,\n",
    "    hyperparameters=hyperparameters,\n",
    "    n_eval=constants.N_EVAL,\n",
    ")\n",
    "\n",
    "#test_loader = torch.utils.data.DataLoader(test_dataset, batch_size=16, shuffle=True)\n",
    "train_loader = torch.utils.data.DataLoader(train_dataset, batch_size=16, shuffle=True)\n"
   ]
  },
  {
   "cell_type": "code",
   "execution_count": 6,
   "metadata": {},
   "outputs": [
    {
     "name": "stdout",
     "output_type": "stream",
     "text": [
      "torch.Size([3, 600, 800])\n",
      "<class 'torch.Tensor'>\n"
     ]
    }
   ],
   "source": [
    "# Take a look at the first training example\n",
    "image, label = train_dataset[0] #POSE THIS AS A QUESTION - ASK IF PPL REMEMBER HOW TO GRAB THE FIRST TRAINING EXAMPLE\n",
    "#plt.imshow(image.squeeze(), cmap='gray') # Display grayscale image. \n",
    "#print('Label:', label)\n",
    "print(image.shape)\n",
    "print(type(image))"
   ]
  },
  {
   "cell_type": "code",
   "execution_count": 7,
   "metadata": {},
   "outputs": [
    {
     "name": "stdout",
     "output_type": "stream",
     "text": [
      "torch.Size([3, 224, 224])\n",
      "<class 'torch.Tensor'>\n"
     ]
    }
   ],
   "source": [
    "import torchvision.transforms as T\n",
    "transform = T.Resize(224)\n",
    "resized_img = transform(image)\n",
    "transform_2 = T.RandomResizedCrop(224)    \n",
    "resized_img_2 = transform_2(resized_img)\n",
    "print(resized_img_2.shape)\n",
    "print(type(resized_img_2))"
   ]
  },
  {
   "cell_type": "code",
   "execution_count": 17,
   "metadata": {},
   "outputs": [
    {
     "ename": "TypeError",
     "evalue": "pic should be PIL Image or ndarray. Got <class 'torch.Tensor'>",
     "output_type": "error",
     "traceback": [
      "\u001b[0;31m---------------------------------------------------------------------------\u001b[0m",
      "\u001b[0;31mTypeError\u001b[0m                                 Traceback (most recent call last)",
      "Cell \u001b[0;32mIn[17], line 2\u001b[0m\n\u001b[1;32m      1\u001b[0m convert_tensor \u001b[39m=\u001b[39m T\u001b[39m.\u001b[39mToTensor()\n\u001b[0;32m----> 2\u001b[0m tensor_image \u001b[39m=\u001b[39m convert_tensor(resized_img_2)\n",
      "File \u001b[0;32m~/opt/anaconda3/envs/myenv/lib/python3.9/site-packages/torchvision/transforms/transforms.py:135\u001b[0m, in \u001b[0;36mToTensor.__call__\u001b[0;34m(self, pic)\u001b[0m\n\u001b[1;32m    127\u001b[0m \u001b[39mdef\u001b[39;00m \u001b[39m__call__\u001b[39m(\u001b[39mself\u001b[39m, pic):\n\u001b[1;32m    128\u001b[0m     \u001b[39m\"\"\"\u001b[39;00m\n\u001b[1;32m    129\u001b[0m \u001b[39m    Args:\u001b[39;00m\n\u001b[1;32m    130\u001b[0m \u001b[39m        pic (PIL Image or numpy.ndarray): Image to be converted to tensor.\u001b[39;00m\n\u001b[0;32m   (...)\u001b[0m\n\u001b[1;32m    133\u001b[0m \u001b[39m        Tensor: Converted image.\u001b[39;00m\n\u001b[1;32m    134\u001b[0m \u001b[39m    \"\"\"\u001b[39;00m\n\u001b[0;32m--> 135\u001b[0m     \u001b[39mreturn\u001b[39;00m F\u001b[39m.\u001b[39;49mto_tensor(pic)\n",
      "File \u001b[0;32m~/opt/anaconda3/envs/myenv/lib/python3.9/site-packages/torchvision/transforms/functional.py:137\u001b[0m, in \u001b[0;36mto_tensor\u001b[0;34m(pic)\u001b[0m\n\u001b[1;32m    135\u001b[0m     _log_api_usage_once(to_tensor)\n\u001b[1;32m    136\u001b[0m \u001b[39mif\u001b[39;00m \u001b[39mnot\u001b[39;00m (F_pil\u001b[39m.\u001b[39m_is_pil_image(pic) \u001b[39mor\u001b[39;00m _is_numpy(pic)):\n\u001b[0;32m--> 137\u001b[0m     \u001b[39mraise\u001b[39;00m \u001b[39mTypeError\u001b[39;00m(\u001b[39mf\u001b[39m\u001b[39m\"\u001b[39m\u001b[39mpic should be PIL Image or ndarray. Got \u001b[39m\u001b[39m{\u001b[39;00m\u001b[39mtype\u001b[39m(pic)\u001b[39m}\u001b[39;00m\u001b[39m\"\u001b[39m)\n\u001b[1;32m    139\u001b[0m \u001b[39mif\u001b[39;00m _is_numpy(pic) \u001b[39mand\u001b[39;00m \u001b[39mnot\u001b[39;00m _is_numpy_image(pic):\n\u001b[1;32m    140\u001b[0m     \u001b[39mraise\u001b[39;00m \u001b[39mValueError\u001b[39;00m(\u001b[39mf\u001b[39m\u001b[39m\"\u001b[39m\u001b[39mpic should be 2/3 dimensional. Got \u001b[39m\u001b[39m{\u001b[39;00mpic\u001b[39m.\u001b[39mndim\u001b[39m}\u001b[39;00m\u001b[39m dimensions.\u001b[39m\u001b[39m\"\u001b[39m)\n",
      "\u001b[0;31mTypeError\u001b[0m: pic should be PIL Image or ndarray. Got <class 'torch.Tensor'>"
     ]
    }
   ],
   "source": [
    "#convert_tensor = T.ToTensor()\n",
    "#tensor_image = convert_tensor(resized_img_2)\n",
    "print(resized_img_2)"
   ]
  }
 ],
 "metadata": {
  "kernelspec": {
   "display_name": "myenv",
   "language": "python",
   "name": "python3"
  },
  "language_info": {
   "codemirror_mode": {
    "name": "ipython",
    "version": 3
   },
   "file_extension": ".py",
   "mimetype": "text/x-python",
   "name": "python",
   "nbconvert_exporter": "python",
   "pygments_lexer": "ipython3",
   "version": "3.9.15"
  },
  "orig_nbformat": 4
 },
 "nbformat": 4,
 "nbformat_minor": 2
}
