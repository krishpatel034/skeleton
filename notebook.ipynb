{
 "cells": [
  {
   "cell_type": "code",
   "execution_count": 1,
   "metadata": {},
   "outputs": [],
   "source": [
    "import os\n",
    "\n",
    "import constants\n",
    "from data.StartingDataset import StartingDataset\n",
    "from networks.StartingNetwork import StartingNetwork\n",
    "from train_functions.starting_train import starting_train\n",
    "import torchvision\n",
    "import torch\n",
    "\n",
    "import matplotlib.pyplot as plt"
   ]
  },
  {
   "cell_type": "code",
   "execution_count": 4,
   "metadata": {},
   "outputs": [],
   "source": [
    "\n",
    "import torch\n",
    "import PIL.Image as img\n",
    "import numpy as np\n",
    "import pandas as pd\n",
    "import torchvision\n",
    "\n",
    "EPOCHS = 1    #DANGER: changed from 100 to 1\n",
    "BATCH_SIZE = 32\n",
    "N_EVAL = 100\n",
    "\n",
    "class StartingDataset(torch.utils.data.Dataset):\n",
    "    \"\"\"\n",
    "    Dataset that contains 100000 3x224x224 black images (all zeros).\n",
    "    \"\"\"\n",
    "\n",
    "    def __init__(self, file_path, transform=None):\n",
    "        self.data = pd.read_csv(file_path)\n",
    "        self.transform = transform\n",
    "        \n",
    "    def __getitem__(self, index):\n",
    "        image = self.data.iloc[index, 0]\n",
    "        image_real = img.open('../data/train_images/' + image)\n",
    "        label = self.data.iloc[index, 1]\n",
    "        \n",
    "        #if self.transform is not None:\n",
    "            #image = self.transform(image)\n",
    "            \n",
    "        #return image, label\n",
    "\n",
    "        new_dimensions = (224, 224)\n",
    "        return (torchvision.transforms.ToTensor()(image_real), label)\n",
    "\n",
    "    def __len__(self):\n",
    "        return len(self.data)\n",
    "    "
   ]
  },
  {
   "cell_type": "code",
   "execution_count": 5,
   "metadata": {},
   "outputs": [
    {
     "name": "stdout",
     "output_type": "stream",
     "text": [
      "Epochs: 1\n",
      "Batch size: 32\n",
      "Epoch 1 of 1\n"
     ]
    },
    {
     "name": "stderr",
     "output_type": "stream",
     "text": [
      "100%|██████████| 669/669 [03:54<00:00,  2.85it/s]"
     ]
    },
    {
     "name": "stdout",
     "output_type": "stream",
     "text": [
      "\n"
     ]
    },
    {
     "name": "stderr",
     "output_type": "stream",
     "text": [
      "\n"
     ]
    }
   ],
   "source": [
    "\n",
    "# Get command line arguments\n",
    "hyperparameters = {\"epochs\": constants.EPOCHS, \"batch_size\": constants.BATCH_SIZE}\n",
    "if torch.cuda.is_available():   #Select gpu if available\n",
    "    device = torch.device('cuda')\n",
    "    #\"cuda\" if torch.cuda.is_available() else \"cpu\")\n",
    "else:\n",
    "    device = torch.device('cpu')\n",
    "\n",
    "\n",
    "#Need to define train_dataset and test_dataset\n",
    "\n",
    "\n",
    "\n",
    "print(\"Epochs:\", constants.EPOCHS)\n",
    "print(\"Batch size:\", constants.BATCH_SIZE)\n",
    "\n",
    "# Initalize dataset and model. Then train the model!\n",
    "train_dataset = StartingDataset('../data/train.csv', transform=torchvision.transforms.ToTensor())\n",
    "\n",
    "#img, lab = train_dataset.__getitem__(0)\n",
    "#print(img)\n",
    "#print(type(img))\n",
    "\n",
    "val_dataset = StartingDataset('../data/train.csv', transform=torchvision.transforms.ToTensor())\n",
    "model = StartingNetwork()\n",
    "starting_train(\n",
    "    train_dataset=train_dataset,\n",
    "    val_dataset=val_dataset,\n",
    "    model=model,\n",
    "    hyperparameters=hyperparameters,\n",
    "    n_eval=constants.N_EVAL,\n",
    ")\n",
    "\n",
    "#test_loader = torch.utils.data.DataLoader(test_dataset, batch_size=16, shuffle=True)\n",
    "train_loader = torch.utils.data.DataLoader(train_dataset, batch_size=16, shuffle=True)\n"
   ]
  },
  {
   "cell_type": "code",
   "execution_count": 6,
   "metadata": {},
   "outputs": [
    {
     "name": "stdout",
     "output_type": "stream",
     "text": [
      "torch.Size([3, 600, 800])\n",
      "<class 'torch.Tensor'>\n"
     ]
    }
   ],
   "source": [
    "# Take a look at the first training example\n",
    "image, label = train_dataset[0] #POSE THIS AS A QUESTION - ASK IF PPL REMEMBER HOW TO GRAB THE FIRST TRAINING EXAMPLE\n",
    "#plt.imshow(image.squeeze(), cmap='gray') # Display grayscale image. \n",
    "#print('Label:', label)\n",
    "print(image.shape)\n",
    "print(type(image))"
   ]
  },
  {
   "cell_type": "code",
   "execution_count": 7,
   "metadata": {},
   "outputs": [
    {
     "name": "stdout",
     "output_type": "stream",
     "text": [
      "torch.Size([3, 224, 224])\n",
      "<class 'torch.Tensor'>\n"
     ]
    }
   ],
   "source": [
    "import torchvision.transforms as T\n",
    "transform = T.Resize(224)\n",
    "resized_img = transform(image)\n",
    "transform_2 = T.RandomResizedCrop(224)    \n",
    "resized_img_2 = transform_2(resized_img)\n",
    "print(resized_img_2.shape)\n",
    "print(type(resized_img_2))"
   ]
  },
  {
   "cell_type": "code",
   "execution_count": 8,
   "metadata": {},
   "outputs": [
    {
     "name": "stdout",
     "output_type": "stream",
     "text": [
      "tensor([[[5.3617e-01, 7.0120e-01, 6.7275e-01,  ..., 3.4087e-01,\n",
      "          4.0801e-01, 1.5647e-01],\n",
      "         [2.2802e-01, 3.7790e-01, 4.2678e-01,  ..., 4.9850e-01,\n",
      "          4.5503e-01, 2.7048e-01],\n",
      "         [4.2994e-01, 4.2878e-01, 5.0750e-01,  ..., 5.9973e-01,\n",
      "          5.6898e-01, 4.3596e-01],\n",
      "         ...,\n",
      "         [5.7667e-02, 6.9984e-02, 7.2969e-02,  ..., 8.1047e-01,\n",
      "          7.9901e-01, 7.3443e-01],\n",
      "         [8.0245e-02, 8.9251e-02, 8.9251e-02,  ..., 7.0744e-01,\n",
      "          7.0936e-01, 6.9149e-01],\n",
      "         [1.2604e-01, 1.0973e-01, 1.0973e-01,  ..., 4.6832e-01,\n",
      "          2.1120e-01, 1.5194e-01]],\n",
      "\n",
      "        [[6.3609e-01, 4.5779e-01, 4.9016e-01,  ..., 5.1831e-01,\n",
      "          6.4355e-01, 4.0402e-01],\n",
      "         [3.9397e-01, 3.5606e-01, 4.9092e-01,  ..., 5.9637e-01,\n",
      "          5.5609e-01, 3.7244e-01],\n",
      "         [5.0087e-01, 5.1233e-01, 6.0318e-01,  ..., 6.0954e-01,\n",
      "          5.2097e-01, 3.2306e-01],\n",
      "         ...,\n",
      "         [2.4875e-01, 2.4421e-01, 2.4719e-01,  ..., 6.8618e-01,\n",
      "          6.7438e-01, 5.9073e-01],\n",
      "         [2.5529e-01, 2.4610e-01, 2.4610e-01,  ..., 5.7762e-01,\n",
      "          5.9441e-01, 5.6858e-01],\n",
      "         [2.5982e-01, 2.5014e-01, 2.5014e-01,  ..., 3.8339e-01,\n",
      "          1.4785e-01, 8.8565e-02]],\n",
      "\n",
      "        [[4.9165e-01, 4.9323e-01, 4.6024e-01,  ..., 2.6330e-01,\n",
      "          3.9990e-01, 1.8270e-01],\n",
      "         [2.2282e-01, 3.1209e-01, 3.3477e-01,  ..., 3.3908e-01,\n",
      "          3.4297e-01, 2.3439e-01],\n",
      "         [3.4779e-01, 3.6658e-01, 4.2028e-01,  ..., 4.1713e-01,\n",
      "          3.9485e-01, 3.3375e-01],\n",
      "         ...,\n",
      "         [5.1033e-03, 4.3330e-04, 3.4182e-03,  ..., 6.3683e-01,\n",
      "          6.3666e-01, 5.3452e-01],\n",
      "         [5.7001e-04, 4.3331e-04, 4.3331e-04,  ..., 5.7596e-01,\n",
      "          5.9428e-01, 5.1752e-01],\n",
      "         [3.0401e-03, 2.3110e-03, 2.3110e-03,  ..., 3.5843e-01,\n",
      "          1.1966e-01, 1.4002e-02]]])\n"
     ]
    }
   ],
   "source": [
    "#convert_tensor = T.ToTensor()\n",
    "#tensor_image = convert_tensor(resized_img_2)\n",
    "print(resized_img_2)\n"
   ]
  }
 ],
 "metadata": {
  "kernelspec": {
   "display_name": "myenv",
   "language": "python",
   "name": "python3"
  },
  "language_info": {
   "codemirror_mode": {
    "name": "ipython",
    "version": 3
   },
   "file_extension": ".py",
   "mimetype": "text/x-python",
   "name": "python",
   "nbconvert_exporter": "python",
   "pygments_lexer": "ipython3",
   "version": "3.9.15"
  },
  "orig_nbformat": 4
 },
 "nbformat": 4,
 "nbformat_minor": 2
}
